{
 "cells": [
  {
   "cell_type": "markdown",
   "id": "0b9b7cc7",
   "metadata": {},
   "source": [
    "### Data Cleaning using Python \n",
    "\n",
    "Cleaning data is a critical step in the data preparation process, ensuring that the data is accurate, complete, and ready for analysis. There are various ways to clean data in Python, depending on the nature of the data and the issues present. Here are several common data cleaning techniques, along with examples and explanations for each: "
   ]
  },
  {
   "cell_type": "markdown",
   "id": "cd1c651b",
   "metadata": {},
   "source": [
    "##### Step-1: Generate synthetic dataset using Faker"
   ]
  },
  {
   "cell_type": "code",
   "execution_count": 3,
   "id": "2ddf9357",
   "metadata": {},
   "outputs": [],
   "source": [
    "import pandas as pd\n",
    "import numpy as np\n",
    "import random\n",
    "from faker import Faker\n",
    "\n",
    "# Create a function to generate a synthetic dataset\n",
    "def generate_synthetic_data():\n",
    "    fake = Faker()\n",
    "    data = {\n",
    "        'Name': [fake.name() for _ in range(1000)],\n",
    "        'Age': [random.randint(18, 80) for _ in range(1000)],\n",
    "        'Income': [random.choice([None, random.uniform(10000, 100000)]) for _ in range(1000)],\n",
    "        'Email': [None if random.random() < 0.2 else fake.email() for _ in range(1000)],\n",
    "        'Category': [random.choice(['A', 'B', 'C']) for _ in range(1000)],\n",
    "        'Date': [fake.date_of_birth(minimum_age=18, maximum_age=80) for _ in range(1000)],\n",
    "        'Text': [fake.sentence() for _ in range(1000)]\n",
    "    }\n",
    "    return pd.DataFrame(data)\n",
    "\n",
    "# Generate synthetic data\n",
    "df = generate_synthetic_data()"
   ]
  },
  {
   "cell_type": "markdown",
   "id": "f25317a9",
   "metadata": {},
   "source": [
    "##### Step-2: Let's perform exploratory data analysis (EDA) to gain a deeper understanding of the dataset we have."
   ]
  },
  {
   "cell_type": "code",
   "execution_count": 6,
   "id": "774cf2fd",
   "metadata": {},
   "outputs": [
    {
     "data": {
      "text/html": [
       "<div>\n",
       "<style scoped>\n",
       "    .dataframe tbody tr th:only-of-type {\n",
       "        vertical-align: middle;\n",
       "    }\n",
       "\n",
       "    .dataframe tbody tr th {\n",
       "        vertical-align: top;\n",
       "    }\n",
       "\n",
       "    .dataframe thead th {\n",
       "        text-align: right;\n",
       "    }\n",
       "</style>\n",
       "<table border=\"1\" class=\"dataframe\">\n",
       "  <thead>\n",
       "    <tr style=\"text-align: right;\">\n",
       "      <th></th>\n",
       "      <th>Age</th>\n",
       "      <th>Income</th>\n",
       "    </tr>\n",
       "  </thead>\n",
       "  <tbody>\n",
       "    <tr>\n",
       "      <th>count</th>\n",
       "      <td>1000.000000</td>\n",
       "      <td>495.000000</td>\n",
       "    </tr>\n",
       "    <tr>\n",
       "      <th>mean</th>\n",
       "      <td>48.275000</td>\n",
       "      <td>56211.313526</td>\n",
       "    </tr>\n",
       "    <tr>\n",
       "      <th>std</th>\n",
       "      <td>17.616518</td>\n",
       "      <td>26491.474935</td>\n",
       "    </tr>\n",
       "    <tr>\n",
       "      <th>min</th>\n",
       "      <td>18.000000</td>\n",
       "      <td>10015.564843</td>\n",
       "    </tr>\n",
       "    <tr>\n",
       "      <th>25%</th>\n",
       "      <td>34.000000</td>\n",
       "      <td>32640.013085</td>\n",
       "    </tr>\n",
       "    <tr>\n",
       "      <th>50%</th>\n",
       "      <td>48.000000</td>\n",
       "      <td>57519.997662</td>\n",
       "    </tr>\n",
       "    <tr>\n",
       "      <th>75%</th>\n",
       "      <td>63.000000</td>\n",
       "      <td>79628.024499</td>\n",
       "    </tr>\n",
       "    <tr>\n",
       "      <th>max</th>\n",
       "      <td>80.000000</td>\n",
       "      <td>99759.413998</td>\n",
       "    </tr>\n",
       "  </tbody>\n",
       "</table>\n",
       "</div>"
      ],
      "text/plain": [
       "               Age        Income\n",
       "count  1000.000000    495.000000\n",
       "mean     48.275000  56211.313526\n",
       "std      17.616518  26491.474935\n",
       "min      18.000000  10015.564843\n",
       "25%      34.000000  32640.013085\n",
       "50%      48.000000  57519.997662\n",
       "75%      63.000000  79628.024499\n",
       "max      80.000000  99759.413998"
      ]
     },
     "execution_count": 6,
     "metadata": {},
     "output_type": "execute_result"
    }
   ],
   "source": [
    "# Import necessary libraries for EDA\n",
    "import matplotlib.pyplot as plt\n",
    "import seaborn as sns\n",
    "\n",
    "# Summary Statistics\n",
    "df.describe()"
   ]
  },
  {
   "cell_type": "code",
   "execution_count": 7,
   "id": "16c1c99e",
   "metadata": {},
   "outputs": [
    {
     "data": {
      "text/plain": [
       "Name         object\n",
       "Age           int64\n",
       "Income      float64\n",
       "Email        object\n",
       "Category     object\n",
       "Date         object\n",
       "Text         object\n",
       "dtype: object"
      ]
     },
     "execution_count": 7,
     "metadata": {},
     "output_type": "execute_result"
    }
   ],
   "source": [
    "# Data Types\n",
    "df.dtypes"
   ]
  },
  {
   "cell_type": "code",
   "execution_count": 8,
   "id": "fa7702b6",
   "metadata": {},
   "outputs": [
    {
     "data": {
      "text/plain": [
       "Name          0\n",
       "Age           0\n",
       "Income      505\n",
       "Email       201\n",
       "Category      0\n",
       "Date          0\n",
       "Text          0\n",
       "dtype: int64"
      ]
     },
     "execution_count": 8,
     "metadata": {},
     "output_type": "execute_result"
    }
   ],
   "source": [
    "# Missing Values\n",
    "df.isnull().sum()"
   ]
  },
  {
   "cell_type": "code",
   "execution_count": 9,
   "id": "48d359fc",
   "metadata": {},
   "outputs": [
    {
     "data": {
      "text/plain": [
       "C    351\n",
       "B    332\n",
       "A    317\n",
       "Name: Category, dtype: int64"
      ]
     },
     "execution_count": 9,
     "metadata": {},
     "output_type": "execute_result"
    }
   ],
   "source": [
    "# Distribution of Categorical Variables\n",
    "df['Category'].value_counts()"
   ]
  },
  {
   "cell_type": "code",
   "execution_count": 10,
   "id": "a4804e59",
   "metadata": {},
   "outputs": [
    {
     "data": {
      "image/png": "[encoded data removed]",
      "text/plain": [
       "<Figure size 576x360 with 1 Axes>"
      ]
     },
     "metadata": {
      "needs_background": "light"
     },
     "output_type": "display_data"
    }
   ],
   "source": [
    "# Histogram for Age\n",
    "plt.figure(figsize=(8, 5))\n",
    "plt.hist(df['Age'], bins=20, color='skyblue', edgecolor='black')\n",
    "plt.title('Age Distribution')\n",
    "plt.xlabel('Age')\n",
    "plt.ylabel('Frequency')\n",
    "plt.show()"
   ]
  },
  {
   "cell_type": "code",
   "execution_count": 11,
   "id": "1e2822bb",
   "metadata": {},
   "outputs": [
    {
     "data": {
      "image/png": "[encoded data removed]",
      "text/plain": [
       "<Figure size 576x360 with 1 Axes>"
      ]
     },
     "metadata": {
      "needs_background": "light"
     },
     "output_type": "display_data"
    }
   ],
   "source": [
    "# Box Plot for Income\n",
    "plt.figure(figsize=(8, 5))\n",
    "sns.boxplot(x='Income', data=df, color='lightcoral')\n",
    "plt.title('Income Distribution')\n",
    "plt.xlabel('Income')\n",
    "plt.show()"
   ]
  },
  {
   "cell_type": "code",
   "execution_count": 12,
   "id": "87a46ae5",
   "metadata": {},
   "outputs": [
    {
     "data": {
      "image/png": "[encoded data removed]",
      "text/plain": [
       "<Figure size 576x360 with 1 Axes>"
      ]
     },
     "metadata": {
      "needs_background": "light"
     },
     "output_type": "display_data"
    }
   ],
   "source": [
    "# Countplot for Category\n",
    "plt.figure(figsize=(8, 5))\n",
    "sns.countplot(x='Category', data=df, palette='Set3')\n",
    "plt.title('Category Distribution')\n",
    "plt.xlabel('Category')\n",
    "plt.ylabel('Count')\n",
    "plt.show()"
   ]
  },
  {
   "cell_type": "code",
   "execution_count": 13,
   "id": "3ef0355b",
   "metadata": {},
   "outputs": [
    {
     "name": "stdout",
     "output_type": "stream",
     "text": [
      "             Age    Income\n",
      "Age     1.000000 -0.087185\n",
      "Income -0.087185  1.000000\n"
     ]
    }
   ],
   "source": [
    "# Correlation Matrix (for numeric variables)\n",
    "correlation_matrix = df.corr()\n",
    "print(correlation_matrix)"
   ]
  },
  {
   "cell_type": "code",
   "execution_count": 14,
   "id": "c5b4ca91",
   "metadata": {},
   "outputs": [
    {
     "data": {
      "image/png": "[encoded data removed]",
      "text/plain": [
       "<Figure size 720x432 with 2 Axes>"
      ]
     },
     "metadata": {
      "needs_background": "light"
     },
     "output_type": "display_data"
    }
   ],
   "source": [
    "# Heatmap of Correlation Matrix\n",
    "plt.figure(figsize=(10, 6))\n",
    "sns.heatmap(correlation_matrix, annot=True, cmap='coolwarm', linewidths=0.5)\n",
    "plt.title('Correlation Matrix')\n",
    "plt.show()"
   ]
  },
  {
   "cell_type": "code",
   "execution_count": 15,
   "id": "e554b9c5",
   "metadata": {},
   "outputs": [
    {
     "data": {
      "image/png": "[encoded data removed]",
      "text/plain": [
       "<Figure size 360x360 with 6 Axes>"
      ]
     },
     "metadata": {
      "needs_background": "light"
     },
     "output_type": "display_data"
    }
   ],
   "source": [
    "# Example of Pairplot (for selected numeric variables)\n",
    "sns.pairplot(df[['Age', 'Income']])\n",
    "plt.title('Pairplot of Age and Income')\n",
    "plt.show()"
   ]
  },
  {
   "cell_type": "markdown",
   "id": "7fba4e0c",
   "metadata": {},
   "source": [
    "##### Step-3: Cleaning data"
   ]
  },
  {
   "cell_type": "markdown",
   "id": "130472c2",
   "metadata": {},
   "source": [
    "###### Handling Missing Values:\n",
    "\n",
    "Explanation: Missing values can disrupt analysis or modeling. Handling missing values involves deciding how to fill or remove them.\n",
    "Example: We replaced missing values in the 'Age' and 'Income' columns with their respective column means using fillna()."
   ]
  },
  {
   "cell_type": "code",
   "execution_count": 16,
   "id": "9579a012",
   "metadata": {},
   "outputs": [],
   "source": [
    "# 1. Explanation: Replace missing values in 'Age' and 'Income' with their respective column means.\n",
    "df['Age'].fillna(df['Age'].mean(), inplace=True)\n",
    "df['Income'].fillna(df['Income'].mean(), inplace=True)"
   ]
  },
  {
   "cell_type": "markdown",
   "id": "fa73c3a9",
   "metadata": {},
   "source": [
    "###### Dealing with Duplicates:\n",
    "\n",
    "Explanation: Duplicates can distort statistical analysis and may represent data entry errors or repeated observations.\n",
    "Example: We removed duplicate rows using drop_duplicates() to ensure each row is unique."
   ]
  },
  {
   "cell_type": "code",
   "execution_count": 17,
   "id": "c937a610",
   "metadata": {},
   "outputs": [],
   "source": [
    "# 2. Dealing with Duplicates\n",
    "# Explanation: Remove duplicate rows to ensure data integrity.\n",
    "df.drop_duplicates(inplace=True)"
   ]
  },
  {
   "cell_type": "markdown",
   "id": "b62c5607",
   "metadata": {},
   "source": [
    "###### Outlier Handling (a simple demonstration):\n",
    "\n",
    "Explanation: Outliers can skew statistical measures and affect the performance of machine learning models. Handling outliers is a critical step, and this example capped extreme values in the 'Income' column.\n",
    "Example: We used np.where() to replace values in the 'Income' column exceeding 100,000 with 100,000."
   ]
  },
  {
   "cell_type": "code",
   "execution_count": 18,
   "id": "48960768",
   "metadata": {},
   "outputs": [],
   "source": [
    "# 3. Outlier Handling (a simple demonstration)\n",
    "# Explanation: Cap extreme values in the 'Income' column.\n",
    "df['Income'] = np.where(df['Income'] > 100000, 100000, df['Income'])"
   ]
  },
  {
   "cell_type": "markdown",
   "id": "9fb2aecc",
   "metadata": {},
   "source": [
    "###### Data Type Conversion:\n",
    "\n",
    "Explanation: Ensuring data types are appropriate for analysis is crucial. Date columns should be converted to datetime objects for date-related operations.\n",
    "Example: We used pd.to_datetime() to convert the 'Date' column to datetime objects."
   ]
  },
  {
   "cell_type": "code",
   "execution_count": 19,
   "id": "ae07e5b3",
   "metadata": {},
   "outputs": [],
   "source": [
    "# 4. Data Type Conversion\n",
    "# Explanation: Convert the 'Date' column to datetime objects.\n",
    "df['Date'] = pd.to_datetime(df['Date'], format='%Y-%m-%d')"
   ]
  },
  {
   "cell_type": "markdown",
   "id": "551f9f14",
   "metadata": {},
   "source": [
    "###### Encoding Categorical Data (One-Hot Encoding):\n",
    "\n",
    "Explanation: Categorical variables need to be converted into numerical representations for machine learning algorithms. One-hot encoding is a common technique.\n",
    "Example: We applied one-hot encoding using pd.get_dummies() to convert the 'Category' column into binary columns."
   ]
  },
  {
   "cell_type": "code",
   "execution_count": 20,
   "id": "19c609e8",
   "metadata": {},
   "outputs": [],
   "source": [
    "# 5. Encoding Categorical Data (One-Hot Encoding)\n",
    "# Explanation: Convert the 'Category' column into binary columns.\n",
    "df_encoded = pd.get_dummies(df, columns=['Category'])"
   ]
  },
  {
   "cell_type": "markdown",
   "id": "fb7e32bd",
   "metadata": {},
   "source": [
    "###### String Cleaning:\n",
    "\n",
    "Explanation: Cleaning text data by removing extra spaces and standardizing text can improve text analysis.\n",
    "Example: We removed leading/trailing spaces and converted text to lowercase in the 'Text' column using string methods."
   ]
  },
  {
   "cell_type": "code",
   "execution_count": 21,
   "id": "de5910c9",
   "metadata": {},
   "outputs": [],
   "source": [
    "# 6. String Cleaning\n",
    "# Explanation: Remove leading/trailing spaces and convert text to lowercase in the 'Text' column.\n",
    "df['Text'] = df['Text'].str.strip().str.lower()"
   ]
  },
  {
   "cell_type": "markdown",
   "id": "2505afe8",
   "metadata": {},
   "source": [
    "###### Data Transformation (Log Transformation):\n",
    "\n",
    "Explanation: Data transformations like log transformation can make skewed data more normally distributed and improve model performance.\n",
    "Example: We applied a log transformation to the 'Income' column using np.log()."
   ]
  },
  {
   "cell_type": "code",
   "execution_count": 22,
   "id": "85769a24",
   "metadata": {},
   "outputs": [],
   "source": [
    "# 7. Data Transformation (Log Transformation)\n",
    "# Explanation: Apply a log transformation to the 'Income' column.\n",
    "df['Income'] = np.log(df['Income'] + 1)"
   ]
  },
  {
   "cell_type": "markdown",
   "id": "c8354369",
   "metadata": {},
   "source": [
    "###### Data Scaling and Normalization (Min-Max Scaling):\n",
    "\n",
    "Explanation: Scaling or normalizing numeric features ensures they have consistent scales, which is important for some machine learning algorithms.\n",
    "Example: We used Min-Max scaling on the 'Age' column with the MinMaxScaler from scikit-learn."
   ]
  },
  {
   "cell_type": "code",
   "execution_count": 23,
   "id": "ce02bd6b",
   "metadata": {},
   "outputs": [],
   "source": [
    "# 8. Data Scaling and Normalization (Min-Max Scaling)\n",
    "# Explanation: Scale the 'Age' column to a range between 0 and 1.\n",
    "from sklearn.preprocessing import MinMaxScaler\n",
    "scaler = MinMaxScaler()\n",
    "df['Age'] = scaler.fit_transform(df[['Age']])"
   ]
  },
  {
   "cell_type": "markdown",
   "id": "0ae70730",
   "metadata": {},
   "source": [
    "###### Handling Inconsistent Data:\n",
    "\n",
    "Explanation: Ensuring consistency in categorical data by standardizing values can prevent data issues.\n",
    "Example: We converted all values in the 'Category' column to uppercase for consistency using the .str.upper() method."
   ]
  },
  {
   "cell_type": "code",
   "execution_count": 24,
   "id": "7bf1838c",
   "metadata": {},
   "outputs": [],
   "source": [
    "# 9. Handling Inconsistent Data\n",
    "# Explanation: Convert all values in the 'Category' column to uppercase for consistency.\n",
    "df['Category'] = df['Category'].str.upper()"
   ]
  },
  {
   "cell_type": "markdown",
   "id": "5ccecc0c",
   "metadata": {},
   "source": [
    "###### Date and Time Handling (Extracting Year):\n",
    "\n",
    "Explanation: Extracting relevant information from date and time data (e.g., year, month) can be useful for analysis.\n",
    "Example: We extracted the year from the 'Date' column using .dt.year."
   ]
  },
  {
   "cell_type": "code",
   "execution_count": 25,
   "id": "39456814",
   "metadata": {},
   "outputs": [],
   "source": [
    "# 10. Date and Time Handling (Extracting Year)\n",
    "# Explanation: Extract the year from the 'Date' column.\n",
    "df['Year'] = df['Date'].dt.year"
   ]
  },
  {
   "cell_type": "markdown",
   "id": "1d52f755",
   "metadata": {},
   "source": [
    "###### Handling Data Skewness (Log Transformation):\n",
    "\n",
    "Explanation: Skewed data can affect model performance. Applying transformations like log or Box-Cox can mitigate skewness.\n",
    "Example: We applied a log transformation to the 'Income' column using np.log()."
   ]
  },
  {
   "cell_type": "code",
   "execution_count": 26,
   "id": "9e523c96",
   "metadata": {},
   "outputs": [],
   "source": [
    "# 11. Handling Data Skewness (Log Transformation)\n",
    "# Explanation: Apply a log transformation to address positive skewness in the 'Income' column.\n",
    "df['Income'] = np.log(df['Income'] + 1)"
   ]
  },
  {
   "cell_type": "markdown",
   "id": "6d61cd36",
   "metadata": {},
   "source": [
    "###### Feature Engineering (Creating 'Age_squared'):\n",
    "\n",
    "Explanation: Creating new features or modifying existing ones can improve model performance or provide additional insights.\n",
    "Example: We created a new feature, 'Age_squared,' by squaring the 'Age' column."
   ]
  },
  {
   "cell_type": "code",
   "execution_count": 27,
   "id": "3d5f19da",
   "metadata": {},
   "outputs": [],
   "source": [
    "# 12. Feature Engineering (Creating 'Age_squared')\n",
    "# Explanation: Create a new feature by squaring the 'Age' column.\n",
    "df['Age_squared'] = df['Age'] ** 2"
   ]
  },
  {
   "cell_type": "markdown",
   "id": "9357b08b",
   "metadata": {},
   "source": [
    "###### Data Validation:\n",
    "\n",
    "Explanation: Data validation ensures data adheres to predefined constraints or business rules.\n",
    "Example: We filtered rows where 'Age' is greater than 0 to ensure valid ages."
   ]
  },
  {
   "cell_type": "code",
   "execution_count": 28,
   "id": "aab3014b",
   "metadata": {},
   "outputs": [],
   "source": [
    "# 13. Data Validation\n",
    "# Explanation: Filter rows where 'Age' is greater than 0 to ensure valid ages.\n",
    "df = df[df['Age'] > 0]"
   ]
  },
  {
   "cell_type": "markdown",
   "id": "3693d37a",
   "metadata": {},
   "source": [
    "These data cleaning methods are essential for ensuring that the data used for analysis or modeling is accurate, consistent, and suitable for the intended purpose. Depending on the dataset and objectives, you may need to apply a subset of these techniques or additional methods tailored to your specific data quality challenges."
   ]
  },
  {
   "cell_type": "code",
   "execution_count": 29,
   "id": "95278c0e",
   "metadata": {},
   "outputs": [
    {
     "name": "stdout",
     "output_type": "stream",
     "text": [
      "                Name       Age    Income                       Email Category  \\\n",
      "0      Dwayne Taylor  0.532258  2.479634                        None        C   \n",
      "1   Brandon Santiago  0.887097  2.479634  guerrerobrandy@example.net        B   \n",
      "2      Mitchell Moss  0.370968  2.479634          john64@example.net        C   \n",
      "3  Mr. Daniel Bryant  0.983871  2.479634     wilsonsarah@example.org        C   \n",
      "4    Sarah Dougherty  0.016129  2.479634          tina39@example.net        B   \n",
      "\n",
      "        Date                                               Text  Year  \\\n",
      "0 1993-03-31  relationship fine boy and price better necessa...  1993   \n",
      "1 1958-06-02                            kitchen we there world.  1958   \n",
      "2 1945-07-28  property manage set relate south difficult cha...  1945   \n",
      "3 1994-01-28                            arrive may leave music.  1994   \n",
      "4 1977-03-23                           since short institution.  1977   \n",
      "\n",
      "   Age_squared  \n",
      "0     0.283299  \n",
      "1     0.786941  \n",
      "2     0.137617  \n",
      "3     0.968002  \n",
      "4     0.000260  \n"
     ]
    }
   ],
   "source": [
    "# Display the cleaned dataset\n",
    "print(df.head())"
   ]
  },
  {
   "cell_type": "markdown",
   "id": "28e12116",
   "metadata": {},
   "source": [
    "##### Step-4: Let's perform exploratory data analysis (EDA) after cleaning data"
   ]
  },
  {
   "cell_type": "code",
   "execution_count": 30,
   "id": "da21d92d",
   "metadata": {},
   "outputs": [
    {
     "data": {
      "text/html": [
       "<div>\n",
       "<style scoped>\n",
       "    .dataframe tbody tr th:only-of-type {\n",
       "        vertical-align: middle;\n",
       "    }\n",
       "\n",
       "    .dataframe tbody tr th {\n",
       "        vertical-align: top;\n",
       "    }\n",
       "\n",
       "    .dataframe thead th {\n",
       "        text-align: right;\n",
       "    }\n",
       "</style>\n",
       "<table border=\"1\" class=\"dataframe\">\n",
       "  <thead>\n",
       "    <tr style=\"text-align: right;\">\n",
       "      <th></th>\n",
       "      <th>Age</th>\n",
       "      <th>Income</th>\n",
       "      <th>Year</th>\n",
       "      <th>Age_squared</th>\n",
       "    </tr>\n",
       "  </thead>\n",
       "  <tbody>\n",
       "    <tr>\n",
       "      <th>count</th>\n",
       "      <td>986.000000</td>\n",
       "      <td>986.000000</td>\n",
       "      <td>986.000000</td>\n",
       "      <td>986.000000</td>\n",
       "    </tr>\n",
       "    <tr>\n",
       "      <th>mean</th>\n",
       "      <td>0.495240</td>\n",
       "      <td>2.472564</td>\n",
       "      <td>1973.722110</td>\n",
       "      <td>0.323627</td>\n",
       "    </tr>\n",
       "    <tr>\n",
       "      <th>std</th>\n",
       "      <td>0.280079</td>\n",
       "      <td>0.037425</td>\n",
       "      <td>18.220195</td>\n",
       "      <td>0.291325</td>\n",
       "    </tr>\n",
       "    <tr>\n",
       "      <th>min</th>\n",
       "      <td>0.016129</td>\n",
       "      <td>2.323563</td>\n",
       "      <td>1942.000000</td>\n",
       "      <td>0.000260</td>\n",
       "    </tr>\n",
       "    <tr>\n",
       "      <th>25%</th>\n",
       "      <td>0.262097</td>\n",
       "      <td>2.479634</td>\n",
       "      <td>1957.000000</td>\n",
       "      <td>0.068743</td>\n",
       "    </tr>\n",
       "    <tr>\n",
       "      <th>50%</th>\n",
       "      <td>0.483871</td>\n",
       "      <td>2.479634</td>\n",
       "      <td>1974.000000</td>\n",
       "      <td>0.234131</td>\n",
       "    </tr>\n",
       "    <tr>\n",
       "      <th>75%</th>\n",
       "      <td>0.725806</td>\n",
       "      <td>2.479778</td>\n",
       "      <td>1990.000000</td>\n",
       "      <td>0.526795</td>\n",
       "    </tr>\n",
       "    <tr>\n",
       "      <th>max</th>\n",
       "      <td>1.000000</td>\n",
       "      <td>2.526570</td>\n",
       "      <td>2005.000000</td>\n",
       "      <td>1.000000</td>\n",
       "    </tr>\n",
       "  </tbody>\n",
       "</table>\n",
       "</div>"
      ],
      "text/plain": [
       "              Age      Income         Year  Age_squared\n",
       "count  986.000000  986.000000   986.000000   986.000000\n",
       "mean     0.495240    2.472564  1973.722110     0.323627\n",
       "std      0.280079    0.037425    18.220195     0.291325\n",
       "min      0.016129    2.323563  1942.000000     0.000260\n",
       "25%      0.262097    2.479634  1957.000000     0.068743\n",
       "50%      0.483871    2.479634  1974.000000     0.234131\n",
       "75%      0.725806    2.479778  1990.000000     0.526795\n",
       "max      1.000000    2.526570  2005.000000     1.000000"
      ]
     },
     "execution_count": 30,
     "metadata": {},
     "output_type": "execute_result"
    }
   ],
   "source": [
    "# Summary Statistics\n",
    "df.describe()"
   ]
  },
  {
   "cell_type": "code",
   "execution_count": 31,
   "id": "015400d3",
   "metadata": {},
   "outputs": [
    {
     "data": {
      "text/plain": [
       "Name                   object\n",
       "Age                   float64\n",
       "Income                float64\n",
       "Email                  object\n",
       "Category               object\n",
       "Date           datetime64[ns]\n",
       "Text                   object\n",
       "Year                    int64\n",
       "Age_squared           float64\n",
       "dtype: object"
      ]
     },
     "execution_count": 31,
     "metadata": {},
     "output_type": "execute_result"
    }
   ],
   "source": [
    "# Data Types\n",
    "df.dtypes"
   ]
  },
  {
   "cell_type": "code",
   "execution_count": 32,
   "id": "d1b32789",
   "metadata": {},
   "outputs": [
    {
     "data": {
      "text/plain": [
       "Name             0\n",
       "Age              0\n",
       "Income           0\n",
       "Email          197\n",
       "Category         0\n",
       "Date             0\n",
       "Text             0\n",
       "Year             0\n",
       "Age_squared      0\n",
       "dtype: int64"
      ]
     },
     "execution_count": 32,
     "metadata": {},
     "output_type": "execute_result"
    }
   ],
   "source": [
    "# Missing Values\n",
    "df.isnull().sum()"
   ]
  },
  {
   "cell_type": "code",
   "execution_count": 33,
   "id": "5e86cd76",
   "metadata": {},
   "outputs": [
    {
     "data": {
      "text/plain": [
       "C    349\n",
       "B    328\n",
       "A    309\n",
       "Name: Category, dtype: int64"
      ]
     },
     "execution_count": 33,
     "metadata": {},
     "output_type": "execute_result"
    }
   ],
   "source": [
    "# Distribution of Categorical Variables\n",
    "df['Category'].value_counts()"
   ]
  },
  {
   "cell_type": "code",
   "execution_count": 34,
   "id": "47d166d1",
   "metadata": {},
   "outputs": [
    {
     "data": {
      "image/png": "[encoded data removed]",
      "text/plain": [
       "<Figure size 576x360 with 1 Axes>"
      ]
     },
     "metadata": {
      "needs_background": "light"
     },
     "output_type": "display_data"
    }
   ],
   "source": [
    "# Histogram for Age\n",
    "plt.figure(figsize=(8, 5))\n",
    "plt.hist(df['Age'], bins=20, color='skyblue', edgecolor='black')\n",
    "plt.title('Age Distribution')\n",
    "plt.xlabel('Age')\n",
    "plt.ylabel('Frequency')\n",
    "plt.show()"
   ]
  },
  {
   "cell_type": "code",
   "execution_count": 35,
   "id": "9a34174f",
   "metadata": {},
   "outputs": [
    {
     "data": {
      "image/png": "[encoded data removed]",
      "text/plain": [
       "<Figure size 576x360 with 1 Axes>"
      ]
     },
     "metadata": {
      "needs_background": "light"
     },
     "output_type": "display_data"
    }
   ],
   "source": [
    "# Box Plot for Income\n",
    "plt.figure(figsize=(8, 5))\n",
    "sns.boxplot(x='Income', data=df, color='lightcoral')\n",
    "plt.title('Income Distribution')\n",
    "plt.xlabel('Income')\n",
    "plt.show()"
   ]
  },
  {
   "cell_type": "code",
   "execution_count": 36,
   "id": "51026871",
   "metadata": {},
   "outputs": [
    {
     "data": {
      "image/png": "[encoded data removed]",
      "text/plain": [
       "<Figure size 576x360 with 1 Axes>"
      ]
     },
     "metadata": {
      "needs_background": "light"
     },
     "output_type": "display_data"
    }
   ],
   "source": [
    "# Countplot for Category\n",
    "plt.figure(figsize=(8, 5))\n",
    "sns.countplot(x='Category', data=df, palette='Set3')\n",
    "plt.title('Category Distribution')\n",
    "plt.xlabel('Category')\n",
    "plt.ylabel('Count')\n",
    "plt.show()"
   ]
  },
  {
   "cell_type": "code",
   "execution_count": 37,
   "id": "55b92abf",
   "metadata": {},
   "outputs": [
    {
     "data": {
      "text/html": [
       "<div>\n",
       "<style scoped>\n",
       "    .dataframe tbody tr th:only-of-type {\n",
       "        vertical-align: middle;\n",
       "    }\n",
       "\n",
       "    .dataframe tbody tr th {\n",
       "        vertical-align: top;\n",
       "    }\n",
       "\n",
       "    .dataframe thead th {\n",
       "        text-align: right;\n",
       "    }\n",
       "</style>\n",
       "<table border=\"1\" class=\"dataframe\">\n",
       "  <thead>\n",
       "    <tr style=\"text-align: right;\">\n",
       "      <th></th>\n",
       "      <th>Age</th>\n",
       "      <th>Income</th>\n",
       "      <th>Year</th>\n",
       "      <th>Age_squared</th>\n",
       "    </tr>\n",
       "  </thead>\n",
       "  <tbody>\n",
       "    <tr>\n",
       "      <th>Age</th>\n",
       "      <td>1.000000</td>\n",
       "      <td>-0.038120</td>\n",
       "      <td>-0.025763</td>\n",
       "      <td>0.967187</td>\n",
       "    </tr>\n",
       "    <tr>\n",
       "      <th>Income</th>\n",
       "      <td>-0.038120</td>\n",
       "      <td>1.000000</td>\n",
       "      <td>0.017420</td>\n",
       "      <td>-0.028185</td>\n",
       "    </tr>\n",
       "    <tr>\n",
       "      <th>Year</th>\n",
       "      <td>-0.025763</td>\n",
       "      <td>0.017420</td>\n",
       "      <td>1.000000</td>\n",
       "      <td>-0.036390</td>\n",
       "    </tr>\n",
       "    <tr>\n",
       "      <th>Age_squared</th>\n",
       "      <td>0.967187</td>\n",
       "      <td>-0.028185</td>\n",
       "      <td>-0.036390</td>\n",
       "      <td>1.000000</td>\n",
       "    </tr>\n",
       "  </tbody>\n",
       "</table>\n",
       "</div>"
      ],
      "text/plain": [
       "                  Age    Income      Year  Age_squared\n",
       "Age          1.000000 -0.038120 -0.025763     0.967187\n",
       "Income      -0.038120  1.000000  0.017420    -0.028185\n",
       "Year        -0.025763  0.017420  1.000000    -0.036390\n",
       "Age_squared  0.967187 -0.028185 -0.036390     1.000000"
      ]
     },
     "execution_count": 37,
     "metadata": {},
     "output_type": "execute_result"
    }
   ],
   "source": [
    "# Correlation Matrix (for numeric variables)\n",
    "df.corr()"
   ]
  },
  {
   "cell_type": "code",
   "execution_count": 38,
   "id": "f7cda0be",
   "metadata": {},
   "outputs": [
    {
     "data": {
      "image/png": "[encoded data removed]",
      "text/plain": [
       "<Figure size 720x432 with 2 Axes>"
      ]
     },
     "metadata": {
      "needs_background": "light"
     },
     "output_type": "display_data"
    }
   ],
   "source": [
    "# Heatmap of Correlation Matrix\n",
    "plt.figure(figsize=(10, 6))\n",
    "sns.heatmap(correlation_matrix, annot=True, cmap='coolwarm', linewidths=0.5)\n",
    "plt.title('Correlation Matrix')\n",
    "plt.show()"
   ]
  },
  {
   "cell_type": "code",
   "execution_count": 41,
   "id": "6a77193f",
   "metadata": {},
   "outputs": [
    {
     "data": {
      "image/png": "[encoded data removed]",
      "text/plain": [
       "<Figure size 360x360 with 6 Axes>"
      ]
     },
     "metadata": {
      "needs_background": "light"
     },
     "output_type": "display_data"
    }
   ],
   "source": [
    "# Example of Pairplot (for selected numeric variables)\n",
    "sns.pairplot(df[['Age', 'Income']])\n",
    "plt.title('Pairplot of Age and Income')\n",
    "plt.show()"
   ]
  },
  {
   "cell_type": "markdown",
   "id": "873f39a3",
   "metadata": {},
   "source": [
    "These EDA techniques help you understand the dataset's characteristics, identify patterns, detect outliers, and prepare for further analysis or modeling. Depending on your specific research questions or analysis goals, you can perform additional EDA tasks and visualizations."
   ]
  }
 ],
 "metadata": {
  "kernelspec": {
   "display_name": "Python 3 (ipykernel)",
   "language": "python",
   "name": "python3"
  },
  "language_info": {
   "codemirror_mode": {
    "name": "ipython",
    "version": 3
   },
   "file_extension": ".py",
   "mimetype": "text/x-python",
   "name": "python",
   "nbconvert_exporter": "python",
   "pygments_lexer": "ipython3",
   "version": "3.9.12"
  }
 },
 "nbformat": 4,
 "nbformat_minor": 5
}
